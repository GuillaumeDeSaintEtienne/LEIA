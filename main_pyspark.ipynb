{
 "cells": [
  {
   "cell_type": "code",
   "execution_count": 64,
   "outputs": [],
   "source": [
    "#!pip install pyspark\n",
    "#!pip install matplotlib"
   ],
   "metadata": {
    "collapsed": false
   }
  },
  {
   "cell_type": "code",
   "execution_count": 65,
   "outputs": [],
   "source": [
    "from pyspark.sql import SparkSession\n",
    "from pyspark.sql.types import FloatType, IntegerType, DateType\n",
    "from pyspark.sql.functions import *\n",
    "from pyspark.sql.window import Window\n",
    "import matplotlib.pyplot as plt\n",
    "import pandas as pd\n",
    "from datetime import datetime\n",
    "from builtins import max as MAX\n",
    "import random"
   ],
   "metadata": {
    "collapsed": false
   }
  },
  {
   "cell_type": "code",
   "execution_count": 66,
   "outputs": [],
   "source": [
    "spark = SparkSession.builder.appName(\"Project\").getOrCreate()"
   ],
   "metadata": {
    "collapsed": false
   }
  },
  {
   "cell_type": "code",
   "execution_count": 67,
   "outputs": [],
   "source": [
    "column_names = ['target', 'ids', 'date', 'flag', 'user', 'text']\n",
    "\n",
    "df = spark.read.option(\"header\", \"false\") \\\n",
    "               .option(\"inferSchema\", \"true\") \\\n",
    "               .option(\"quote\", '\"') \\\n",
    "               .option(\"escape\", '\"') \\\n",
    "               .option(\"multiLine\", \"true\") \\\n",
    "               .csv(\"dataSet140.csv\")\n",
    "\n",
    "\n",
    "df = df.toDF(*column_names)\n"
   ],
   "metadata": {
    "collapsed": false
   }
  },
  {
   "cell_type": "code",
   "execution_count": 84,
   "outputs": [
    {
     "name": "stdout",
     "output_type": "stream",
     "text": [
      "+------+----------+-----------+--------+---------------+--------------------+--------------------+--------------------+--------------------+--------------------+\n",
      "|target|       ids|       date|    flag|           user|                text|           textSplit|               words|      filtered_words|        cleaned_text|\n",
      "+------+----------+-----------+--------+---------------+--------------------+--------------------+--------------------+--------------------+--------------------+\n",
      "|     0|1467810369|06-Apr-2009|NO_QUERY|_TheSpecialOne_|@switchfoot http:...|[@switchfoot, htt...|[@switchfoot, htt...|[@switchfoot, htt...|@switchfoot http:...|\n",
      "|     0|1467810672|06-Apr-2009|NO_QUERY|  scotthamilton|is upset that he ...|[is, upset, that,...|[is, upset, that,...|[upset, can't, up...|upset can't updat...|\n",
      "|     0|1467810917|06-Apr-2009|NO_QUERY|       mattycus|@Kenichan I dived...|[@Kenichan, I, di...|[@Kenichan, I, di...|[@Kenichan, I, di...|@Kenichan I dived...|\n",
      "|     0|1467811184|06-Apr-2009|NO_QUERY|        ElleCTF|my whole body fee...|[my, whole, body,...|[my, whole, body,...|[whole, body, fee...|whole body feels ...|\n",
      "|     0|1467811193|06-Apr-2009|NO_QUERY|         Karoli|@nationwideclass ...|[@nationwideclass...|[@nationwideclass...|[@nationwideclass...|@nationwideclass ...|\n",
      "|     0|1467811372|06-Apr-2009|NO_QUERY|       joy_wolf|@Kwesidei not the...|[@Kwesidei, not, ...|[@Kwesidei, not, ...|[@Kwesidei, whole...|@Kwesidei whole c...|\n",
      "|     0|1467811592|06-Apr-2009|NO_QUERY|        mybirch|         Need a hug |    [Need, a, hug, ]|    [Need, a, hug, ]|       [Need, hug, ]|           Need hug |\n",
      "|     0|1467811594|06-Apr-2009|NO_QUERY|           coZZ|@LOLTrish hey  lo...|[@LOLTrish, hey, ...|[@LOLTrish, hey, ...|[@LOLTrish, hey, ...|@LOLTrish hey  lo...|\n",
      "|     0|1467811795|06-Apr-2009|NO_QUERY|2Hood4Hollywood|@Tatiana_K nope t...|[@Tatiana_K, nope...|[@Tatiana_K, nope...|[@Tatiana_K, nope...|@Tatiana_K nope d...|\n",
      "|     0|1467812025|06-Apr-2009|NO_QUERY|        mimismo|@twittera que me ...|[@twittera, que, ...|[@twittera, que, ...|[@twittera, que, ...|@twittera que mue...|\n",
      "|     0|1467812416|06-Apr-2009|NO_QUERY| erinx3leannexo|spring break in p...|[spring, break, i...|[spring, break, i...|[spring, break, p...|spring break plai...|\n",
      "|     0|1467812579|06-Apr-2009|NO_QUERY|   pardonlauren|I just re-pierced...|[I, just, re-pier...|[I, just, re-pier...|[I, re-pierced, e...|  I re-pierced ears |\n",
      "|     0|1467812723|06-Apr-2009|NO_QUERY|           TLeC|@caregiving I cou...|[@caregiving, I, ...|[@caregiving, I, ...|[@caregiving, I, ...|@caregiving I cou...|\n",
      "|     0|1467812771|06-Apr-2009|NO_QUERY|robrobbierobert|@octolinz16 It it...|[@octolinz16, It,...|[@octolinz16, It,...|[@octolinz16, It,...|@octolinz16 It co...|\n",
      "|     0|1467812784|06-Apr-2009|NO_QUERY|    bayofwolves|@smarrison i woul...|[@smarrison, i, w...|[@smarrison, i, w...|[@smarrison, woul...|@smarrison would'...|\n",
      "|     0|1467812799|06-Apr-2009|NO_QUERY|     HairByJess|@iamjazzyfizzle I...|[@iamjazzyfizzle,...|[@iamjazzyfizzle,...|[@iamjazzyfizzle,...|@iamjazzyfizzle I...|\n",
      "|     0|1467812964|06-Apr-2009|NO_QUERY| lovesongwriter|Hollis' death sce...|[Hollis', death, ...|[Hollis', death, ...|[Hollis', death, ...|Hollis' death sce...|\n",
      "|     0|1467813137|06-Apr-2009|NO_QUERY|       armotley|about to file taxes |[about, to, file,...|[about, to, file,...|     [file, taxes, ]|         file taxes |\n",
      "|     0|1467813579|06-Apr-2009|NO_QUERY|     starkissed|@LettyA ahh ive a...|[@LettyA, ahh, iv...|[@LettyA, ahh, iv...|[@LettyA, ahh, iv...|@LettyA ahh ive a...|\n",
      "|     0|1467813782|06-Apr-2009|NO_QUERY|      gi_gi_bee|@FakerPattyPattz ...|[@FakerPattyPattz...|[@FakerPattyPattz...|[@FakerPattyPattz...|@FakerPattyPattz ...|\n",
      "+------+----------+-----------+--------+---------------+--------------------+--------------------+--------------------+--------------------+--------------------+\n",
      "only showing top 20 rows\n",
      "\n"
     ]
    }
   ],
   "source": [
    "df.show()"
   ],
   "metadata": {
    "collapsed": false
   }
  },
  {
   "cell_type": "code",
   "execution_count": 69,
   "outputs": [
    {
     "name": "stdout",
     "output_type": "stream",
     "text": [
      "root\n",
      " |-- target: integer (nullable = true)\n",
      " |-- ids: long (nullable = true)\n",
      " |-- date: string (nullable = true)\n",
      " |-- flag: string (nullable = true)\n",
      " |-- user: string (nullable = true)\n",
      " |-- text: string (nullable = true)\n",
      "\n"
     ]
    }
   ],
   "source": [
    "df.printSchema()"
   ],
   "metadata": {
    "collapsed": false
   }
  },
  {
   "cell_type": "code",
   "execution_count": 70,
   "outputs": [],
   "source": [
    "df = df.withColumn(\"dateSplit\", split(col(\"date\"), \" \"))\n",
    "df = df.withColumn(\"date\", concat(col(\"dateSplit\").getItem(2), lit(\"-\") , col(\"dateSplit\").getItem(1),lit(\"-\") ,col(\"dateSplit\").getItem(5)))\n",
    "df = df.drop(\"dateSplit\")"
   ],
   "metadata": {
    "collapsed": false
   }
  },
  {
   "cell_type": "code",
   "execution_count": 71,
   "outputs": [],
   "source": [
    "df = df.na.drop(how = 'any')"
   ],
   "metadata": {
    "collapsed": false
   }
  },
  {
   "cell_type": "code",
   "execution_count": 72,
   "outputs": [
    {
     "name": "stdout",
     "output_type": "stream",
     "text": [
      "There are 800000 negative tweets and 800000 positive\n"
     ]
    }
   ],
   "source": [
    "print(f\"There are {df.filter(col('target') == 0).count()} negative tweets and {df.filter(col('target') == 4).count()} positive\")"
   ],
   "metadata": {
    "collapsed": false
   }
  },
  {
   "cell_type": "code",
   "execution_count": 73,
   "outputs": [],
   "source": [
    "def missing_values(df):\n",
    "    missing_values_conditions = [\n",
    "        count(when(isnan(c) | col(c).isNull(), c)).alias(c) if df.schema[c].dataType in ['DoubleType', 'FloatType'] else count(when(col(c).isNull(), c)).alias(c)\n",
    "        for c in df.columns\n",
    "    ]\n",
    "    df.select(missing_values_conditions).show()"
   ],
   "metadata": {
    "collapsed": false
   }
  },
  {
   "cell_type": "code",
   "execution_count": 74,
   "outputs": [
    {
     "name": "stdout",
     "output_type": "stream",
     "text": [
      "+------+---+----+----+----+----+\n",
      "|target|ids|date|flag|user|text|\n",
      "+------+---+----+----+----+----+\n",
      "|     0|  0|   0|   0|   0|   0|\n",
      "+------+---+----+----+----+----+\n",
      "\n"
     ]
    }
   ],
   "source": [
    "missing_values(df)"
   ],
   "metadata": {
    "collapsed": false
   }
  },
  {
   "cell_type": "code",
   "execution_count": 78,
   "outputs": [
    {
     "data": {
      "text/plain": "<Figure size 1000x600 with 1 Axes>",
      "image/png": "[encoded data removed]"
     },
     "metadata": {},
     "output_type": "display_data"
    }
   ],
   "source": [
    "dfTemp = df.select(\"target\").toPandas()\n",
    "plt.figure(figsize=(10, 6))\n",
    "dfTemp.value_counts().plot(kind='bar')\n",
    "plt.title(\"Frequency Distribution of vote\")\n",
    "plt.xlabel(\"class\")\n",
    "plt.ylabel(\"Count\")\n",
    "plt.xticks(rotation=45)\n",
    "plt.show()"
   ],
   "metadata": {
    "collapsed": false
   }
  },
  {
   "cell_type": "code",
   "execution_count": 88,
   "outputs": [
    {
     "name": "stdout",
     "output_type": "stream",
     "text": [
      "+---------------------------------------------------------------------------------------------------------------------+--------------------------------------------------------------------------------------------------------+\n",
      "|text                                                                                                                 |cleaned_text                                                                                            |\n",
      "+---------------------------------------------------------------------------------------------------------------------+--------------------------------------------------------------------------------------------------------+\n",
      "|@switchfoot http://twitpic.com/2y1zl - Awww, that's a bummer.  You shoulda got David Carr of Third Day to do it. ;D  |@switchfoot http://twitpic.com/2y1zl - Awww, that's bummer.  You shoulda got David Carr Third Day it. ;D|\n",
      "|is upset that he can't update his Facebook by texting it... and might cry as a result  School today also. Blah!      |upset can't update Facebook texting it... might cry result  School today also. Blah!                    |\n",
      "|@Kenichan I dived many times for the ball. Managed to save 50%  The rest go out of bounds                            |@Kenichan I dived many times ball. Managed save 50%  The rest go bounds                                 |\n",
      "|my whole body feels itchy and like its on fire                                                                       |whole body feels itchy like fire                                                                        |\n",
      "|@nationwideclass no, it's not behaving at all. i'm mad. why am i here? because I can't see you all over there.       |@nationwideclass no, it's behaving all. i'm mad. here? I can't see there.                               |\n",
      "|@Kwesidei not the whole crew                                                                                         |@Kwesidei whole crew                                                                                    |\n",
      "|Need a hug                                                                                                           |Need hug                                                                                                |\n",
      "|@LOLTrish hey  long time no see! Yes.. Rains a bit ,only a bit  LOL , I'm fine thanks , how's you ?                  |@LOLTrish hey  long time see! Yes.. Rains bit ,only LOL , I'm fine thanks how's ?                       |\n",
      "|@Tatiana_K nope they didn't have it                                                                                  |@Tatiana_K nope didn't                                                                                  |\n",
      "|@twittera que me muera ?                                                                                             |@twittera que muera ?                                                                                   |\n",
      "|spring break in plain city... it's snowing                                                                           |spring break plain city... it's snowing                                                                 |\n",
      "|I just re-pierced my ears                                                                                            |I re-pierced ears                                                                                       |\n",
      "|@caregiving I couldn't bear to watch it.  And I thought the UA loss was embarrassing . . . . .                       |@caregiving I couldn't bear watch it.  And thought UA loss embarrassing .                               |\n",
      "|@octolinz16 It it counts, idk why I did either. you never talk to me anymore                                         |@octolinz16 It counts, idk I either. never talk anymore                                                 |\n",
      "|@smarrison i would've been the first, but i didn't have a gun.    not really though, zac snyder's just a doucheclown.|@smarrison would've first, didn't gun.  really though, zac snyder's doucheclown.                        |\n",
      "|@iamjazzyfizzle I wish I got to watch it with you!! I miss you and @iamlilnicki  how was the premiere?!              |@iamjazzyfizzle I wish got watch you!! miss @iamlilnicki  premiere?!                                    |\n",
      "|Hollis' death scene will hurt me severely to watch on film  wry is directors cut not out now?                        |Hollis' death scene hurt severely watch film  wry directors cut now?                                    |\n",
      "|about to file taxes                                                                                                  |file taxes                                                                                              |\n",
      "|@LettyA ahh ive always wanted to see rent  love the soundtrack!!                                                     |@LettyA ahh ive always wanted see rent  love soundtrack!!                                               |\n",
      "|@FakerPattyPattz Oh dear. Were you drinking out of the forgotten table drinks?                                       |@FakerPattyPattz Oh dear. Were drinking forgotten table drinks?                                         |\n",
      "+---------------------------------------------------------------------------------------------------------------------+--------------------------------------------------------------------------------------------------------+\n",
      "only showing top 20 rows\n",
      "\n"
     ]
    }
   ],
   "source": [
    "stop_words = [\n",
    "    \"i\", \"me\", \"my\", \"myself\", \"we\", \"our\", \"ours\", \"ourselves\", \"you\", \"your\", \"yours\", \"yourself\", \"yourselves\",\n",
    "    \"he\", \"him\", \"his\", \"himself\", \"she\", \"her\", \"hers\", \"herself\", \"it\", \"its\", \"itself\", \"they\", \"them\", \"their\",\n",
    "    \"theirs\", \"themselves\", \"what\", \"which\", \"who\", \"whom\", \"this\", \"that\", \"these\", \"those\", \"am\", \"is\", \"are\",\n",
    "    \"was\", \"were\", \"be\", \"been\", \"being\", \"have\", \"has\", \"had\", \"having\", \"do\", \"does\", \"did\", \"doing\", \"a\", \"an\",\n",
    "    \"the\", \"and\", \"but\", \"if\", \"or\", \"because\", \"as\", \"until\", \"while\", \"of\", \"at\", \"by\", \"for\", \"with\", \"about\",\n",
    "    \"against\", \"between\", \"into\", \"through\", \"during\", \"before\", \"after\", \"above\", \"below\", \"to\", \"from\", \"up\",\n",
    "    \"down\", \"in\", \"out\", \"on\", \"off\", \"over\", \"under\", \"again\", \"further\", \"then\", \"once\", \"here\", \"there\", \"when\",\n",
    "    \"where\", \"why\", \"how\", \"all\", \"any\", \"both\", \"each\", \"few\", \"more\", \"most\", \"other\", \"some\", \"such\", \"no\", \"nor\",\n",
    "    \"not\", \"only\", \"own\", \"same\", \"so\", \"than\", \"too\", \"very\", \"s\", \"t\", \"can\", \"will\", \"just\", \"don\", \"should\", \"now\",\n",
    "    \"d\", \"ll\", \"m\", \"o\", \"re\", \"ve\", \"y\", \"ain\", \"aren\", \"couldn\", \"didn\", \"doesn\", \"hadn\", \"hasn\", \"haven\", \"isn\",\n",
    "    \"ma\", \"mightn\", \"mustn\", \"needn\", \"shan\", \"shouldn\", \"wasn\", \"weren\", \"won\", \"wouldn\"\n",
    "]\n",
    "\n",
    "df = df.withColumn(\"words\", split(df[\"text\"], \" \"))\n",
    "df = df.withColumn(\"filtered_words\", expr(\"array_except(words, array(\" + \",\".join([f\"'{word}'\" for word in stop_words]) + \"))\"))\n",
    "df = df.withColumn(\"cleaned_text\", concat_ws(\" \", df[\"filtered_words\"]))\n",
    "\n",
    "df.select(\"text\", \"cleaned_text\").show(truncate=False)\n"
   ],
   "metadata": {
    "collapsed": false
   }
  },
  {
   "cell_type": "code",
   "execution_count": null,
   "outputs": [],
   "source": [],
   "metadata": {
    "collapsed": false
   }
  }
 ],
 "metadata": {
  "kernelspec": {
   "display_name": "Python 3",
   "language": "python",
   "name": "python3"
  },
  "language_info": {
   "codemirror_mode": {
    "name": "ipython",
    "version": 2
   },
   "file_extension": ".py",
   "mimetype": "text/x-python",
   "name": "python",
   "nbconvert_exporter": "python",
   "pygments_lexer": "ipython2",
   "version": "2.7.6"
  }
 },
 "nbformat": 4,
 "nbformat_minor": 0
}
